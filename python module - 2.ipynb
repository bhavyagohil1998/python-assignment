{
 "cells": [
  {
   "cell_type": "code",
   "execution_count": null,
   "id": "94123845",
   "metadata": {},
   "outputs": [],
   "source": [
    "#01\n",
    "\n",
    "num = int(input(\"Enter a number :\"))\n",
    "if num ==0:\n",
    "    print(\"It is neither positive nor negative\")\n",
    "elif num>0:\n",
    "    print(\"It is a positive number\")\n",
    "else:\n",
    "    print(\"It is a negative number\")\n",
    "    "
   ]
  },
  {
   "cell_type": "code",
   "execution_count": null,
   "id": "cf867646",
   "metadata": {},
   "outputs": [],
   "source": [
    "#03\n",
    "#Write a programe to get the fibonacci series\n",
    "fibonacci_num = int(input(\"Enter a range1 :\"))\n",
    "num_1 = 0\n",
    "num_2 = 1\n",
    "num_3 = 0\n",
    "for fiboncci_series in range(fibonacci_num):\n",
    "    print(num_3,end=\" \")\n",
    "    num_1 = num_2\n",
    "    num_2 = num_3\n",
    "    num_3 = num_1 + num_2\n"
   ]
  },
  {
   "cell_type": "code",
   "execution_count": null,
   "id": "f1bbeb58",
   "metadata": {},
   "outputs": [],
   "source": [
    "#02\n",
    "#Write the programe to get the fectorial number of the given number\n",
    "num_1 = int(input(\"Enter the range :\"))\n",
    "count_1 = 0\n",
    "count_2 = 1\n",
    "count_3 = 0\n",
    "for i in range(num_1):\n",
    "    print(count_1,end=\" \")\n",
    "    count_3 = count_1 + count_2\n",
    "    count_2 = count_1\n",
    "    count_1 = count_3"
   ]
  },
  {
   "cell_type": "code",
   "execution_count": null,
   "id": "93e96e1e",
   "metadata": {},
   "outputs": [],
   "source": [
    "#04\n",
    "#How memory is managed in python\n",
    "\n"
   ]
  },
  {
   "cell_type": "code",
   "execution_count": null,
   "id": "5446bb7d",
   "metadata": {},
   "outputs": [],
   "source": [
    "#05\n",
    "#What is continue statements\n",
    "\"\"\"continue statement skips execution\n",
    "when condition is satisfied \"\"\""
   ]
  },
  {
   "cell_type": "code",
   "execution_count": null,
   "id": "3870637b",
   "metadata": {},
   "outputs": [],
   "source": [
    "#06\n",
    "#Write a programe to swap th two numbers\n",
    "\n",
    "num_1 = int(input(\"Enter the first number : \"))\n",
    "num_2 = int(input(\"Enter the second number :\"))\n",
    "print(\"num_1 =\",num_1)\n",
    "print(\"num_2 =\",num_2)\n",
    "num_3 = num_1\n",
    "num_1 = num_2\n",
    "num_2 = num_3\n",
    "print(\"num_1 after swapping =\",num_1)\n",
    "print(\"num_2 after swapping =\",num_2)"
   ]
  },
  {
   "cell_type": "code",
   "execution_count": null,
   "id": "c84e2d6c",
   "metadata": {},
   "outputs": [],
   "source": [
    "#07\n",
    "#Check weather the number is even or odd\n",
    "num = int(input(\"Enter a number : \"))\n",
    "if num%2==0:\n",
    "    print(\"The given number is EVEN\")\n",
    "elif num == 0:\n",
    "    print(\"The given number is neither positive bor neative\")\n",
    "else:\n",
    "    print(\"The given number is ODD\")"
   ]
  },
  {
   "cell_type": "code",
   "execution_count": null,
   "id": "4ad87693",
   "metadata": {},
   "outputs": [],
   "source": [
    "#08\n",
    "#Write a programe to test weather a letter is vovel or not\n",
    "alphabet = input(\"Enter a character : \")\n",
    "if(alphabet == 'A' or alphabet == 'a' or alphabet == 'E' or alphabet == 'e' or alphabet == 'I'\n",
    "  or alphabet == 'i' or alphabet == 'O' or alphabet == 'o' or alphabet == 'U' or alphabet == 'u'):\n",
    "    print(\"The charcter is a vovel\")\n",
    "else:\n",
    "    print(\"The character is not vovel\")"
   ]
  },
  {
   "cell_type": "code",
   "execution_count": null,
   "id": "317e5d0c",
   "metadata": {},
   "outputs": [],
   "source": [
    "#09\n",
    "#Write a programe to sum the 3 given integers,however if two values are equal their sum will be zero\n",
    "\n",
    "num_1 = int(input(\"Enter a numer 1 : \"))\n",
    "num_2 = int(input(\"Enter a numer 2 : \"))\n",
    "num_3 = int(input(\"Enter a numer 3 : \"))\n",
    "total = num_1 + num_2 +num_3\n",
    "if (num_1 == num_2 or num_2 == num_3 or num_1 == num_3):\n",
    "    print(\"The sum of the numbers is 0 \")\n",
    "else:\n",
    "    print(total)"
   ]
  },
  {
   "cell_type": "code",
   "execution_count": null,
   "id": "159224b0",
   "metadata": {},
   "outputs": [],
   "source": [
    "#10\n",
    "\"\"\"Write a programe that returns TRUE if two given integervalues are equal or their sum \n",
    "or their difference is equal to 5\"\"\" \n",
    "num_1 = int(input(\"Enter a numer 1 : \"))\n",
    "num_2 = int(input(\"Enter a numer 2 : \"))\n",
    "if (num_1 == num_2 or (num_1 + num_2) == 5 or (num_1 - num_2) == 5 or (num_2 - num_1) == 5):\n",
    "    print(\"True\")\n",
    "else:\n",
    "    pass"
   ]
  },
  {
   "cell_type": "code",
   "execution_count": null,
   "id": "0444ebd5",
   "metadata": {},
   "outputs": [],
   "source": [
    "#11\n",
    "#Find the sum of first n positive numbers\n",
    "positive_integer = int(input())\n",
    "sum = 0\n",
    "if positive_integer<=0:\n",
    "    print(\"Enter a value greater than zero\")\n",
    "else:\n",
    "    for s in range(1):\n",
    "        for k in range(1,positive_integer+1):\n",
    "            sum = sum + k\n",
    "        print(\"The sum of first\",positive_integer,\"positive number is :\",sum)"
   ]
  },
  {
   "cell_type": "code",
   "execution_count": null,
   "id": "0103745d",
   "metadata": {},
   "outputs": [],
   "source": [
    "#12\n",
    "#Calculate the length of a given string\n",
    "string = input()\n",
    "print(\"The length of the string\",len(string))"
   ]
  },
  {
   "cell_type": "code",
   "execution_count": null,
   "id": "6b6da02d",
   "metadata": {},
   "outputs": [],
   "source": [
    "#13\n",
    "#What are negative indexes and why they are used for\n",
    "\"\"\"Negative indexes are the vlues that runs from right to left \n",
    "it starts from -1, it is basically used when the string is long\n",
    "and need to be executed from the ending point  \"\"\""
   ]
  },
  {
   "cell_type": "code",
   "execution_count": null,
   "id": "8f9f85c4",
   "metadata": {},
   "outputs": [],
   "source": [
    "#14\n",
    "#Write a programe to count the occurerences of a substring in a string"
   ]
  },
  {
   "cell_type": "code",
   "execution_count": null,
   "id": "8d2c18cb",
   "metadata": {},
   "outputs": [],
   "source": [
    "#15\n",
    "\"\"\"Write a programe to get a single string from two seprate strings\n",
    "seprated by space and swap first two charecetrs of each strings\"\"\"\n",
    "str1 = \"hello my name is\"\n",
    "str2 = \"what is your name\"\n",
    "a = str1[0:2]\n",
    "b = str2[0:2]\n",
    "c = str1[2:]\n",
    "d = str2[2:]\n",
    "str3 = a + d\n",
    "str4 = b + c\n",
    "str5 = (str4 + \" \" + str3)\n",
    "print(str5)"
   ]
  },
  {
   "cell_type": "code",
   "execution_count": null,
   "id": "76f4c06d",
   "metadata": {},
   "outputs": [],
   "source": [
    "#16\n",
    "\"\"\"A programe that adds 'ing' at the end of the string,(length must be atleast 3)\n",
    "if not leave unchanged if string ends with 'ing' add 'ly' instead\"\"\"\n",
    "string = str(input(\"Enter the string : \"))\n",
    "if len(string) <= 2:\n",
    "    print(string)\n",
    "elif string.endswith(\"ing\"):\n",
    "    string = string.__add__(\"ly\")\n",
    "    print(string)\n",
    "else:\n",
    "    string = string.__add__(\"ing\")\n",
    "    print(string)\n"
   ]
  },
  {
   "cell_type": "markdown",
   "id": "6de404ff",
   "metadata": {},
   "source": []
  },
  {
   "cell_type": "code",
   "execution_count": null,
   "id": "3c541bc5",
   "metadata": {},
   "outputs": [],
   "source": [
    "#17\n",
    "\"\"\"Write a progrme to find the first appereance of the substrings 'not' and 'poor'\n",
    "from a given string, if not follows yhe 'poor', replace the whole 'not'.....'poor'\n",
    "substring with 'good'.Return the resulting string\"\"\"\n",
    "string1 = input(\"Enter the string : \")\n",
    "fornot = string1.find(\"not\")\n",
    "forpoor = string1.find(\"poor\")\n",
    "if fornot < forpoor:\n",
    "    replace_word = string1[fornot:(forpoor+4)]\n",
    "    new_replace = string1.replace(replace_word,\"good\")\n",
    "    print(new_replace)\n",
    "else:\n",
    "    print(string1)\n"
   ]
  },
  {
   "cell_type": "code",
   "execution_count": null,
   "id": "a97ea9f6",
   "metadata": {},
   "outputs": [],
   "source": [
    "#18\n",
    "#write a function that takes a list of words and return the longest one\n"
   ]
  },
  {
   "cell_type": "code",
   "execution_count": null,
   "id": "caa63c37",
   "metadata": {},
   "outputs": [],
   "source": [
    "#19\n",
    "#Write a programe that reverses a string if it's length is multiple of 4\n",
    "string = input(\"Enter the string : \")\n",
    "if len(string)%4==0:\n",
    "    str1 = string[::-1]\n",
    "    print(str1)\n",
    "else:\n",
    "    print(string)"
   ]
  },
  {
   "cell_type": "code",
   "execution_count": null,
   "id": "43edea8b",
   "metadata": {},
   "outputs": [],
   "source": [
    "#20\n",
    "#Get the string made of first and last 2 words,if string is less then 2 return insted empty string,\n",
    "\n",
    "string = input(\"Enter the string : \")\n",
    "if len(string) <= 1:\n",
    "    print(\"Empty string\")\n",
    "elif len(string) == 2:\n",
    "    print(string*2)\n",
    "else:\n",
    "    a = string[:2]\n",
    "    b = string[-2:]\n",
    "    c = a + b\n",
    "    print(c)"
   ]
  },
  {
   "cell_type": "code",
   "execution_count": null,
   "id": "f4b264b7",
   "metadata": {},
   "outputs": [],
   "source": [
    "#21\n",
    "#Insert a string in the middle of a string\n",
    "string_1 = \"Hey there to everyone, let's begain\"\n",
    "left = string_1[:10]\n",
    "right = string_1[9:]\n",
    "add = \"good morning\"\n",
    "new_string = left + add + right\n",
    "print(new_string)"
   ]
  },
  {
   "cell_type": "code",
   "execution_count": 5,
   "id": "f4fe2917",
   "metadata": {},
   "outputs": [
    {
     "name": "stdout",
     "output_type": "stream",
     "text": [
      "hello\n",
      "therepc\n"
     ]
    }
   ],
   "source": [
    "string = input(\"Enter the string : \")\n",
    "string = string.split()\n",
    "longest_word = 0\n",
    "for i in string:\n",
    "    if i.isalpha() and len(i) > longest_word:\n",
    "        longest_word = len(i)\n",
    "        x = i\n",
    "print(\"The longest word in the string is :\",x)"
   ]
  },
  {
   "cell_type": "code",
   "execution_count": null,
   "id": "6474c28c",
   "metadata": {},
   "outputs": [],
   "source": []
  },
  {
   "cell_type": "code",
   "execution_count": 7,
   "id": "f210880c",
   "metadata": {},
   "outputs": [
    {
     "name": "stdout",
     "output_type": "stream",
     "text": [
      "hell\n",
      "therepc\n"
     ]
    }
   ],
   "source": [
    "str = \"hell how are you are therepc are\"\n",
    "str = str.split()\n",
    "c = 0\n",
    "for i in str:\n",
    "    if i.isaplha and len(i)>c:\n",
    "        c = len(i)\n",
    "        k = i\n",
    "        print(k)"
   ]
  },
  {
   "cell_type": "code",
   "execution_count": null,
   "id": "f606187f",
   "metadata": {},
   "outputs": [],
   "source": []
  }
 ],
 "metadata": {
  "kernelspec": {
   "display_name": "Python 3 (ipykernel)",
   "language": "python",
   "name": "python3"
  },
  "language_info": {
   "codemirror_mode": {
    "name": "ipython",
    "version": 3
   },
   "file_extension": ".py",
   "mimetype": "text/x-python",
   "name": "python",
   "nbconvert_exporter": "python",
   "pygments_lexer": "ipython3",
   "version": "3.10.5"
  }
 },
 "nbformat": 4,
 "nbformat_minor": 5
}
