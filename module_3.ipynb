{
 "cells": [
  {
   "cell_type": "code",
   "execution_count": null,
   "id": "a1f4685f",
   "metadata": {},
   "outputs": [],
   "source": [
    "#01 What is list and how to reverse it\n",
    "\"\"\"List is the a kind of data type which stores any kind of values \n",
    "in ordered form which is indexed and mutable at the same time\n",
    "List also allows dublicates\"\"\"\n",
    "\n",
    "#To reverse a list\n",
    "list = [23,4435,23,1,43,235]\n",
    "reverse_list = list[::-1]\n",
    "print(reverse_list)"
   ]
  },
  {
   "cell_type": "code",
   "execution_count": null,
   "id": "f1057a2c",
   "metadata": {},
   "outputs": [],
   "source": [
    "#02 How to remove last object from a list\n",
    "list = [23,\"hello\",65,42,88]\n",
    "list.pop()"
   ]
  },
  {
   "cell_type": "code",
   "execution_count": null,
   "id": "8daeacc8",
   "metadata": {},
   "outputs": [],
   "source": [
    "#03 suppose list1 is[2,33,222,14,25], what is list1[-1]\n",
    "\n",
    "list = [2,33,222,14,25]\n",
    "list[-1]"
   ]
  },
  {
   "cell_type": "code",
   "execution_count": null,
   "id": "48824b7f",
   "metadata": {},
   "outputs": [],
   "source": [
    "#04 Difference btween append and extend\n",
    "\n",
    "\"\"\"Append takes an argument as a single element and adds at the end of the list\n",
    "while, extend takes iterables as an argument and adds to the string\n",
    "in append the length of the string increases by 1, while using extend\n",
    "the length of the list increases by the number of iterable items\"\"\" "
   ]
  },
  {
   "cell_type": "code",
   "execution_count": null,
   "id": "2e06a522",
   "metadata": {},
   "outputs": [],
   "source": [
    "#05 Write a function to get the larg est,smallest and sum of all in the list\n",
    "list = []\n",
    "z = 0\n",
    "length = int(input(\"enter the length of the list : \"))\n",
    "for i in range(length):\n",
    "    a = int(input(\"Enter the number : \"))\n",
    "    list.append(a)\n",
    "    list.sort()\n",
    "    x = list[-1]\n",
    "print(\"The biggest number in the list is :\",x)\n",
    "for i in list:\n",
    "    y = list[0]\n",
    "print(\"The smallest number in the list is :\",y)\n",
    "for i in list:\n",
    "    z += i\n",
    "    b = z\n",
    "print(\"Sum of elements in the list is :\",b)\n",
    "    "
   ]
  },
  {
   "cell_type": "markdown",
   "id": "801ffd05",
   "metadata": {},
   "source": [
    "###### "
   ]
  },
  {
   "cell_type": "code",
   "execution_count": null,
   "id": "e635e781",
   "metadata": {},
   "outputs": [],
   "source": [
    "#06 How will you compare two list\n",
    "l1 = [\"heisdg\",\"hedyh\",\"weryh\",\"pdwkdw\"]\n",
    "for i in l1:\n",
    "    print(i[0],i[-1])"
   ]
  },
  {
   "cell_type": "code",
   "execution_count": null,
   "id": "2ab5f7af",
   "metadata": {},
   "outputs": [],
   "source": [
    "\"\"\"07 Write a python programe to count the number of strings where the string length is 2 or more\n",
    "and first and last characters of the list are same from the given list of string\"\"\"\n",
    "\n",
    "list_1 = []\n",
    "count = 0\n",
    "size = int(input(\"Enter the size of list : \"))\n",
    "for i in range(size):\n",
    "    element = input(\"Enter the string : \")\n",
    "    list_1.append(element)\n",
    "    if len(element) > 2:\n",
    "        if element[0] == element[-1]:\n",
    "            count += 1\n",
    "        else:\n",
    "            pass\n",
    "print(\"Number of elements whose first and last characters are same is :\",count)\n",
    "    \n"
   ]
  },
  {
   "cell_type": "code",
   "execution_count": null,
   "id": "1336d1a6",
   "metadata": {},
   "outputs": [],
   "source": [
    "#08 write a python progrme to remove the dubliates from the list\n",
    "\n",
    "list_1 = [23,45,66,23,68,45,77,68,94,69]\n",
    "filter_list_1 = []\n",
    "for elements in list_1:\n",
    "    if elements not in filter_list_1:\n",
    "        filter_list_1.append(elements)\n",
    "print(filter_list_1)"
   ]
  },
  {
   "cell_type": "code",
   "execution_count": null,
   "id": "6db0cb65",
   "metadata": {},
   "outputs": [],
   "source": [
    "#09 write a python programe to check weather a list is empty or not\n",
    "\n",
    "list_1 = []\n",
    "count = 0\n",
    "size = int(input(\"Enter the length of the list : \"))\n",
    "for i in range (size):\n",
    "    element = input(\"Enter the elements : \")\n",
    "    list_1.append(element)\n",
    "    if size == 0:\n",
    "        print(\"List is empty\")\n",
    "    else:\n",
    "        count += 1\n",
    "        \n",
    "print(\"Number of elements in the list are : \",count)\n",
    "    \n",
    "    "
   ]
  },
  {
   "cell_type": "code",
   "execution_count": null,
   "id": "5aedac24",
   "metadata": {},
   "outputs": [],
   "source": [
    "#10 Write the pograme that takes two list and return true if they have atleast one common number\n",
    "\n",
    "list_1 = []\n",
    "list_2 = []\n",
    "size_list_1 = int(input(\"Enter the size of first list : \"))\n",
    "size_list_2 = int(input(\"Enter the size of second list : \"))\n",
    "a = 0\n",
    "for i in range (size_list_1):\n",
    "    elements = input(\"Enter the elements of first list : \")\n",
    "    list_1.append(elements)\n",
    "for j in range (size_list_2):\n",
    "    element = input(\"Enter the elements of second list : \")\n",
    "    list_2.append(element)\n",
    "for k in list_1:\n",
    "    for l in list_2:\n",
    "        if l == k:\n",
    "            a += 1\n",
    "if a > 0:\n",
    "    print(True)\n",
    "else:\n",
    "    print(\"No common numbers found \")\n"
   ]
  },
  {
   "cell_type": "markdown",
   "id": "7d63914d",
   "metadata": {},
   "source": [
    "#### "
   ]
  },
  {
   "cell_type": "code",
   "execution_count": null,
   "id": "9af8f116",
   "metadata": {},
   "outputs": [],
   "source": [
    "#11 "
   ]
  },
  {
   "cell_type": "code",
   "execution_count": null,
   "id": "0355b6a8",
   "metadata": {},
   "outputs": [],
   "source": [
    "#12 Write a programe that takes the list and returns a new list with unique values\n",
    "\n",
    "list_1 = [23,56,23,\"string\",False,\"string\",56]\n",
    "list_1 = list(set(list_1))\n",
    "print(list_1)"
   ]
  },
  {
   "cell_type": "code",
   "execution_count": null,
   "id": "fe07e54a",
   "metadata": {},
   "outputs": [],
   "source": [
    "#13 Write a programe to convert list of characters into string\n",
    "list_1 = []\n",
    "size = int(input(\"Enter the size of the list : \"))\n",
    "for i in range(size):\n",
    "    elements = input(\"Enter the character : \")\n",
    "    list_1.append(elements)\n",
    "    \n",
    "list_1 = str(list_1)\n",
    "print(list_1)"
   ]
  },
  {
   "cell_type": "code",
   "execution_count": null,
   "id": "ce4aad06",
   "metadata": {},
   "outputs": [],
   "source": [
    "#14 write a programe to pick a random value from the list\n",
    "list_1 = [\"Hello\",344,True,\"Name\",(23),455]\n",
    "list_1 = list(set(list_1))\n",
    "list_1.pop()"
   ]
  },
  {
   "cell_type": "code",
   "execution_count": null,
   "id": "0a071f6a",
   "metadata": {},
   "outputs": [],
   "source": [
    "#15 Write a programe to find the second smallest number from the list\n",
    "list_1 = []\n",
    "length = int(input(\"enter the length of the list : \"))\n",
    "for i in range(length):\n",
    "    elements = int(input(\"Enter the number : \"))\n",
    "    list_1.append(elements)\n",
    "    list_1.sort()\n",
    "second_smallest_number = list_1[-2]\n",
    "print(\"The second smallest number in the list is :\", second_smallest_number )\n",
    "\n",
    "    "
   ]
  },
  {
   "cell_type": "code",
   "execution_count": null,
   "id": "d6a29f01",
   "metadata": {},
   "outputs": [],
   "source": [
    "#16 Write a programe to get the unique values from a list\n",
    "list_1 = [23,656,True,1,\"Hello\",23,1,\"Hello\"]\n",
    "list_1 = list(set(list_1))\n",
    "print(list_1)"
   ]
  },
  {
   "cell_type": "code",
   "execution_count": null,
   "id": "874f2fb0",
   "metadata": {},
   "outputs": [],
   "source": [
    "#17"
   ]
  },
  {
   "cell_type": "code",
   "execution_count": null,
   "id": "619ce768",
   "metadata": {},
   "outputs": [],
   "source": [
    "#18 Write a programe to split a list into different variable\n",
    "list_1 = [(\"Hello\",12,26),(\"Nice\",\"Day\",1999,(233,89,\"Yes\")),(\"Fifo\",\"Work\",22)]\n",
    "unpack_1,unpack_2,unpack_3 = list_1\n",
    "print(unpack_1)\n",
    "print(unpack_2)\n",
    "print(unpack_3)"
   ]
  },
  {
   "cell_type": "code",
   "execution_count": null,
   "id": "dfbe3db0",
   "metadata": {},
   "outputs": [],
   "source": [
    "#19 Difference between tupe and list\n",
    "\"\"\"List is mutable while tuple is immutable\"\"\""
   ]
  },
  {
   "cell_type": "code",
   "execution_count": null,
   "id": "5630758e",
   "metadata": {},
   "outputs": [],
   "source": [
    "#20 Write a programe to create a tuple with different data types\n",
    "tuple_1 = (True,\"Hello\",23,[\"nice day\",33],{23,56},23)\n",
    "print(tuple_1)"
   ]
  },
  {
   "cell_type": "code",
   "execution_count": null,
   "id": "d3951e4c",
   "metadata": {},
   "outputs": [],
   "source": [
    "#21 write a programe to create a tuple with number\n",
    "tuple_1 = (23,23,6,87,23,65,45)\n",
    "print(tuple_1)"
   ]
  },
  {
   "cell_type": "code",
   "execution_count": null,
   "id": "5bbd724f",
   "metadata": {},
   "outputs": [],
   "source": [
    "#22 Write aprograme to convert tuple into string\n",
    "tuple_1 = (23,45,\"Hello\",True,0,\"Day and Night\")\n",
    "tuple_2=tr(tuple_1)\n",
    "print(tuple_2)"
   ]
  },
  {
   "cell_type": "code",
   "execution_count": null,
   "id": "f22d778a",
   "metadata": {},
   "outputs": [],
   "source": [
    "#22 Write aprograme to convert tuple into string\n",
    "tuple_1 = (23,45,\"Hello\",True,0,\"Day and Night\")\n",
    "tuple_2=str(tuple_1)\n",
    "print(tuple_2)"
   ]
  },
  {
   "cell_type": "code",
   "execution_count": null,
   "id": "262366c9",
   "metadata": {},
   "outputs": [],
   "source": [
    "#23 Write a programe to check weather an element exists in tuple or not\n",
    "tuple_1 = ()\n",
    "count = 0\n",
    "for elements in tuple_1:\n",
    "    count += 1\n",
    "if count < 1:\n",
    "    print(\"Tuple is empty\")\n",
    "else:\n",
    "    print(\"Number of elements in tuple are : \",count)"
   ]
  },
  {
   "cell_type": "code",
   "execution_count": null,
   "id": "e2d3a0da",
   "metadata": {},
   "outputs": [],
   "source": [
    "#24 Write a  programe to find the length of tuple\n",
    "tuple_1 = (23,True,0,[45,6,\"hello\",\"Nice Day\"],{33,66},\"Length\",45,45,45,99)\n",
    "count = 0\n",
    "for elements in tuple_1:\n",
    "    count += 1\n",
    "print(\"Length of tuple_1 is : \",count)"
   ]
  },
  {
   "cell_type": "code",
   "execution_count": null,
   "id": "df4b6cf4",
   "metadata": {},
   "outputs": [],
   "source": [
    "#25 Write a programe to convert list into tuple\n",
    "tuple_1 = (23,True,0,[45,6,\"hello\",\"Nice Day\"],{33,66},\"Length\",45,45,45,99)\n",
    "tuple_1 = list(tuple_1)\n",
    "print(tuple_1)"
   ]
  },
  {
   "cell_type": "code",
   "execution_count": null,
   "id": "c5ef20c8",
   "metadata": {},
   "outputs": [],
   "source": [
    "#26 write a programe to reverse a tuple\n",
    "tuple_1 = (23,True,0,[45,6,\"hello\",\"Nice Day\"],{33,66},\"Length\",45,45,45,99)\n",
    "tuple_1 = list(tuple_1)\n",
    "tuple_1.reverse()\n",
    "tuple_1 = tuple(tuple_1)\n",
    "print(tuple_1)"
   ]
  },
  {
   "cell_type": "code",
   "execution_count": null,
   "id": "a8ec86cd",
   "metadata": {},
   "outputs": [],
   "source": [
    "#27 Write a programe to replace last value of tuple in a list\n",
    "tuple_1 = (23,True,0,[45,6,\"hello\",\"Nice Day\"],{33,66},\"Length\",45,45,45,\"list\")\n",
    "tuple_1 = list(tuple_1[-1])\n",
    "\n",
    "print(tuple_1)"
   ]
  },
  {
   "cell_type": "code",
   "execution_count": null,
   "id": "f8fd7968",
   "metadata": {},
   "outputs": [],
   "source": [
    "#28 write a progame to find the repeated items of a tuple\n",
    "tuple_1 =  (23,True,0,[45,6,\"hello\",\"Nice Day\"],45,23,{33,66},\"Length\",45,43,99,\"Length\")\n",
    "tuple_1 = list(tuple_1)\n",
    "list_1 = []\n",
    "list_2 = []\n",
    "for elements in tuple_1:\n",
    "    if elements not in list_1:\n",
    "        list_1.append(elements)\n",
    "    else:\n",
    "        list_2.append(elements)\n",
    "        tuple_1 = tuple(list_2)\n",
    "print(\"Repeated elements in the tuple are : \",tuple_1)\n"
   ]
  },
  {
   "cell_type": "code",
   "execution_count": null,
   "id": "ce82038a",
   "metadata": {},
   "outputs": [],
   "source": [
    "#28 Write a programe to remove the empty tuple from the list of tuple\n",
    "tuple_1 = ((23,45,555),(),(23,56),(\"hello\",True),(),(233,False,\"nice\"),(),(89,566))#\n",
    "list_1 = []\n",
    "tuple_1 = list(tuple_1)\n",
    "for elements in tuple_1:\n",
    "    if len(elements) < 1:\n",
    "        continue\n",
    "    else:\n",
    "        list_1.append(elements)\n",
    "list_1 = tuple(list_1)\n",
    "print(list_1)\n",
    "    "
   ]
  },
  {
   "cell_type": "code",
   "execution_count": null,
   "id": "7f6a4c2c",
   "metadata": {},
   "outputs": [],
   "source": [
    "#29 Write a prorame to unzip a list of tuple into individual lists\n",
    "tuple_1 = (23,\"Hello\",\"Nice\",56,78,\"day\")\n",
    "unzip_1,unzip_2,unzip_3,unzip_4,unzip_5,unzip_6 = tuple_1\n",
    "print(unzip_1,unzip_2,unzip_3,unzip_4,unzip_5,unzip_6)"
   ]
  },
  {
   "cell_type": "code",
   "execution_count": null,
   "id": "2fb7ac99",
   "metadata": {},
   "outputs": [],
   "source": [
    "#30 Write a programe to convert the list of tuple into dictonary \n",
    "tuple_1 = [('hello',True),(3,56),('camel','hump')]\n",
    "tuple_1 = dict(tuple_1)\n",
    "print(tuple_1)"
   ]
  },
  {
   "cell_type": "code",
   "execution_count": null,
   "id": "133e6289",
   "metadata": {},
   "outputs": [],
   "source": [
    "#31 How to create a dictonary using tuple\n",
    "tuple_1 = [('hello',True),(3,56),('camel','hump')]\n",
    "tuple_1 = dict(tuple_1)\n",
    "print(tuple_1)"
   ]
  },
  {
   "cell_type": "code",
   "execution_count": null,
   "id": "c28564f3",
   "metadata": {},
   "outputs": [],
   "source": [
    "#32 Write a programe to sort a dictonary in ascending and decending orede by it's values\n",
    "dict_1 = {32:22,45:45,34:12,68:55,31:1}\n",
    "ascending_sorted_dict_1 = dict(sorted(dict_1.items(),key = lambda p: p[1]))\n",
    "decending_sorted_dict_1 = dict(sorted(dict_1.items(),key = lambda p: p [1],reverse=True))\n",
    "print(\"Ascending order :\",ascending_sorted_dict_1)\n",
    "print(\"Decending order :\",decending_sorted_dict_1)"
   ]
  },
  {
   "cell_type": "code",
   "execution_count": null,
   "id": "1b467cdb",
   "metadata": {},
   "outputs": [],
   "source": [
    "#33 Write a programe to concatenate the following dictionaries to create a new one\n",
    "dict_1 = {\"Keval\": 23,\"Harsh\":45}\n",
    "dict_2 = {\"Aman\":67,\"Naresh\":99}\n",
    "dict_2.update(dict_1)\n",
    "print(dict_2)\n"
   ]
  },
  {
   "cell_type": "code",
   "execution_count": null,
   "id": "da706a6a",
   "metadata": {},
   "outputs": [],
   "source": [
    "#34 Write a programe to check if a given key already exits in dictonary\n",
    "dict_1 = {\"He\":\"Blue\",\"She\":\"Pink\",\"Aman\":30,\"Hey\":488,\"Taxi\":\"Yellow\",\"Stan\":\"Soviet\"}\n",
    "key = input(\"Enter the key : \")\n",
    "key_1 = dict_1.get(key)\n",
    "if key_1 == None:\n",
    "    print(\"Key does not exist\")\n",
    "else:\n",
    "    print(key_1)"
   ]
  },
  {
   "cell_type": "code",
   "execution_count": null,
   "id": "c42b37d8",
   "metadata": {},
   "outputs": [],
   "source": [
    "#35 "
   ]
  },
  {
   "cell_type": "code",
   "execution_count": null,
   "id": "de8f75e5",
   "metadata": {},
   "outputs": [],
   "source": [
    "#36 How to check the presence of key in a dictonary\n",
    "#just simply use the method [ dict.keys()]"
   ]
  },
  {
   "cell_type": "code",
   "execution_count": null,
   "id": "85ec3571",
   "metadata": {},
   "outputs": [],
   "source": [
    "#37 Write a python script to print a dictonary where the keys are numbers from 1 to 15\n",
    "dict_1 = {2:44,55:43} \n",
    "dict_1.setdefault(14:56)\n"
   ]
  },
  {
   "cell_type": "code",
   "execution_count": null,
   "id": "397c3247",
   "metadata": {},
   "outputs": [],
   "source": [
    "#38 Write a programe to check multiple key exist in a dictonary\n",
    "dict_1 = {22:34,34:56,22:6,32:67,98:7}\n",
    "for keys in dict_1:\n",
    "    length = len(dict_1.keys())\n",
    "if length > 0:\n",
    "    print(\"Multiple keys exists\")\n",
    "else:\n",
    "    print(\"Only on key exist\")"
   ]
  },
  {
   "cell_type": "code",
   "execution_count": null,
   "id": "b794edf1",
   "metadata": {},
   "outputs": [],
   "source": [
    "#39 Write a python programe to merge two dictonaries\n",
    "dict_1 = {\"Rohan\":\"Cricket\",\"Rahul\":\"Football\",\"Vikey\":\"Basketball\"}\n",
    "dict_2 = {\"Keval\":\"Chess\",\"Sagar\":\"Carrom\"}\n",
    "dict_2.update(dict_1)\n",
    "print(dict_2)"
   ]
  },
  {
   "cell_type": "code",
   "execution_count": null,
   "id": "e8edb1fd",
   "metadata": {},
   "outputs": [],
   "source": [
    "#40 Write a programe to map two list into dictonary\n",
    "list_1 = [\"English\",\"Maths\",\"Science\",\"History\"]\n",
    "list_2 = [78,81,83,74]\n",
    "dict_1 = dict(zip(list_1,list_2))\n",
    "print(dict_1)\n",
    "    "
   ]
  },
  {
   "cell_type": "code",
   "execution_count": null,
   "id": "e5fa7fd6",
   "metadata": {},
   "outputs": [],
   "source": [
    "#41Write a programe to combine two dictonary adding values for common keys\n",
    "dict_1 = {\"a\":100,\"b\":200,\"c\":300}\n",
    "dict_2 = {\"b\":300,\"a\":200,\"d\":400}\n",
    "for key in dict_1:\n",
    "    if key in dict_2:\n",
    "        dict_1[key] = dict_1[key] + dict_2[key]\n",
    "dict_3 = dict_2 | dict_1\n",
    "print(dict_3)\n",
    "            "
   ]
  },
  {
   "cell_type": "code",
   "execution_count": null,
   "id": "10e59837",
   "metadata": {},
   "outputs": [],
   "source": [
    "#41 Write the programe to print all unique values in dictonary\n",
    "dict_1 = {\"a\":100,\"b\":200,\"c\":300,\"e\":400,\"d\":100}\n",
    "list(set(dict_1.values()))"
   ]
  },
  {
   "cell_type": "code",
   "execution_count": null,
   "id": "926bbb53",
   "metadata": {},
   "outputs": [],
   "source": [
    "#42 How to use zip method in python\n",
    "list_1 = [\"English\",\"Maths\",\"Science\",\"History\"]\n",
    "list_2 = [78,81,83,74]\n",
    "list_3 = list(zip(list_1,list_2))\n",
    "print(list_3)"
   ]
  },
  {
   "cell_type": "code",
   "execution_count": null,
   "id": "ffb19d6e",
   "metadata": {},
   "outputs": [],
   "source": [
    "#43"
   ]
  },
  {
   "cell_type": "code",
   "execution_count": null,
   "id": "cc214798",
   "metadata": {},
   "outputs": [],
   "source": [
    "#44 Write a python programe to find 3 highest values in dictonary\n",
    "dict_1 = {\"a\":100,\"b\":400,\"c\":300,\"d\":500,\"e\":50}\n",
    "list_1 = []\n",
    "dict_1 = list(sorted(dict_1.items(), key = lambda x : x[1]))\n",
    "for key,values in dict_1:\n",
    "    list_1.append(values)\n",
    "    list_1 = list_1[0:3]\n",
    "print(\"The 3 highest values in given dictonary are : \",list_1)"
   ]
  },
  {
   "cell_type": "code",
   "execution_count": null,
   "id": "9b78a0e7",
   "metadata": {},
   "outputs": [],
   "source": [
    "#45 Write the programe to combine values in python list of dictonaries\n",
    "dict_1 = {\"item\":\"item1\",\"amount\":400}\n",
    "dict_2 = {\"item\":\"item2\",\"amount\":300}\n",
    "dict_3 = {\"item\":\"item1\",\"amount\":750}\n",
    "#Expected output  {\"item1\":1150,\"item2\":300}    \n",
    "dict_4 = {}\n",
    "dict_5 = {}"
   ]
  },
  {
   "cell_type": "code",
   "execution_count": null,
   "id": "cbfb4119",
   "metadata": {},
   "outputs": [],
   "source": [
    "dict_1 = {\"item\":\"item1\",\"amount\":400}\n",
    "dict_2 = {\"item\":\"item2\",\"amount\":300}\n",
    "dict_3 = {\"item\":\"item1\",\"amount\":750}\n",
    "for key,value in dict_1.items():\n",
    "    if value == "
   ]
  },
  {
   "cell_type": "code",
   "execution_count": null,
   "id": "afe986fb",
   "metadata": {},
   "outputs": [],
   "source": [
    "#47 Write a programe to count the characters of the string and create a dictonary from it\n",
    "str_1 = \"w3resource\"\n",
    "#Expected output {\"W\":1,\"3\":1,\"r\":2,\"e\":2,\"s\":1,\"o\":1,\"u\":1,\"c\":1}\n",
    "\n",
    "dict_1 = {}\n",
    "for i in str_1:\n",
    "    count = str_1.count(i)\n",
    "    dict_1[i] = count\n",
    "print(dict_1)\n",
    "    "
   ]
  },
  {
   "cell_type": "code",
   "execution_count": null,
   "id": "6d0577d9",
   "metadata": {},
   "outputs": [],
   "source": [
    "#48 Write a python programe to calculate the factorial of the number\n",
    "def f2(num):\n",
    "    if num > 1:\n",
    "        return num * f2(num-1)\n",
    "    else:\n",
    "        return num\n",
    "f2(6)"
   ]
  },
  {
   "cell_type": "code",
   "execution_count": null,
   "id": "58864728",
   "metadata": {},
   "outputs": [],
   "source": []
  }
 ],
 "metadata": {
  "kernelspec": {
   "display_name": "Python 3 (ipykernel)",
   "language": "python",
   "name": "python3"
  },
  "language_info": {
   "codemirror_mode": {
    "name": "ipython",
    "version": 3
   },
   "file_extension": ".py",
   "mimetype": "text/x-python",
   "name": "python",
   "nbconvert_exporter": "python",
   "pygments_lexer": "ipython3",
   "version": "3.10.5"
  }
 },
 "nbformat": 4,
 "nbformat_minor": 5
}
